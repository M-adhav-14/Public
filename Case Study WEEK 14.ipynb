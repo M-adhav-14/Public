{
 "cells": [
  {
   "cell_type": "code",
   "execution_count": 4,
   "id": "a3fdd13d",
   "metadata": {},
   "outputs": [],
   "source": [
    "import pandas as pd\n",
    "import numpy as np\n",
    "import matplotlib.pyplot as plt\n"
   ]
  },
  {
   "cell_type": "code",
   "execution_count": 5,
   "id": "92d1a80c",
   "metadata": {},
   "outputs": [],
   "source": [
    "data=pd.read_csv(r\"C:\\Users\\Madhav\\Downloads\\Wine.csv\")"
   ]
  },
  {
   "cell_type": "code",
   "execution_count": 6,
   "id": "2132dd2f",
   "metadata": {},
   "outputs": [
    {
     "data": {
      "text/plain": [
       "array([[ 15.6, 127. ],\n",
       "       [ 11.2, 100. ],\n",
       "       [ 18.6, 101. ],\n",
       "       [ 16.8, 113. ],\n",
       "       [ 21. , 118. ],\n",
       "       [ 15.2, 112. ],\n",
       "       [ 14.6,  96. ],\n",
       "       [ 17.6, 121. ],\n",
       "       [ 14. ,  97. ],\n",
       "       [ 16. ,  98. ],\n",
       "       [ 18. , 105. ],\n",
       "       [ 16.8,  95. ],\n",
       "       [ 16. ,  89. ],\n",
       "       [ 11.4,  91. ],\n",
       "       [ 12. , 102. ],\n",
       "       [ 17.2, 112. ],\n",
       "       [ 20. , 120. ],\n",
       "       [ 20. , 115. ],\n",
       "       [ 16.5, 108. ],\n",
       "       [ 15.2, 116. ],\n",
       "       [ 16. , 126. ],\n",
       "       [ 18.6, 102. ],\n",
       "       [ 16.6, 101. ],\n",
       "       [ 17.8,  95. ],\n",
       "       [ 20. ,  96. ],\n",
       "       [ 25. , 124. ],\n",
       "       [ 16.1,  93. ],\n",
       "       [ 17. ,  94. ],\n",
       "       [ 19.4, 107. ],\n",
       "       [ 16. ,  96. ],\n",
       "       [ 22.5, 101. ],\n",
       "       [ 19.1, 106. ],\n",
       "       [ 17.2, 104. ],\n",
       "       [ 19.5, 132. ],\n",
       "       [ 19. , 110. ],\n",
       "       [ 20.5, 100. ],\n",
       "       [ 15.5, 110. ],\n",
       "       [ 18. ,  98. ],\n",
       "       [ 15.5,  98. ],\n",
       "       [ 13.2, 128. ],\n",
       "       [ 16.2, 117. ],\n",
       "       [ 18.8,  90. ],\n",
       "       [ 15. , 101. ],\n",
       "       [ 17.5, 103. ],\n",
       "       [ 17. , 107. ],\n",
       "       [ 18.9, 111. ],\n",
       "       [ 16. , 102. ],\n",
       "       [ 16. , 101. ],\n",
       "       [ 18.8, 103. ],\n",
       "       [ 17.4, 108. ],\n",
       "       [ 12.4,  92. ],\n",
       "       [ 17.2,  94. ],\n",
       "       [ 14. , 111. ],\n",
       "       [ 17.1, 115. ],\n",
       "       [ 16.4, 118. ],\n",
       "       [ 20.5, 116. ],\n",
       "       [ 16.3, 118. ],\n",
       "       [ 16.8, 102. ],\n",
       "       [ 16.7, 108. ],\n",
       "       [ 10.6,  88. ],\n",
       "       [ 16. , 101. ],\n",
       "       [ 16.8, 100. ],\n",
       "       [ 18. ,  94. ],\n",
       "       [ 19. ,  87. ],\n",
       "       [ 19. , 104. ],\n",
       "       [ 18.1,  98. ],\n",
       "       [ 15. ,  78. ],\n",
       "       [ 19.6,  78. ],\n",
       "       [ 17. , 110. ],\n",
       "       [ 16.8, 151. ],\n",
       "       [ 20.4, 103. ],\n",
       "       [ 25. ,  86. ],\n",
       "       [ 24. ,  87. ],\n",
       "       [ 30. , 139. ],\n",
       "       [ 21. , 101. ],\n",
       "       [ 16. ,  97. ],\n",
       "       [ 16. ,  86. ],\n",
       "       [ 18. , 112. ],\n",
       "       [ 14.8, 136. ],\n",
       "       [ 23. , 101. ],\n",
       "       [ 19. ,  86. ],\n",
       "       [ 18.8,  86. ],\n",
       "       [ 24. ,  78. ],\n",
       "       [ 22.5,  85. ],\n",
       "       [ 18. ,  94. ],\n",
       "       [ 18. ,  99. ],\n",
       "       [ 22.8,  90. ],\n",
       "       [ 26. ,  88. ],\n",
       "       [ 21.6,  84. ],\n",
       "       [ 23.6,  70. ],\n",
       "       [ 18.5,  81. ],\n",
       "       [ 22. ,  86. ],\n",
       "       [ 20.7,  80. ],\n",
       "       [ 18. ,  88. ],\n",
       "       [ 18. ,  98. ],\n",
       "       [ 19. , 162. ],\n",
       "       [ 21.5, 134. ],\n",
       "       [ 16. ,  85. ],\n",
       "       [ 18.5,  88. ],\n",
       "       [ 18. ,  88. ],\n",
       "       [ 17.5,  97. ],\n",
       "       [ 18.5,  88. ],\n",
       "       [ 21. ,  98. ],\n",
       "       [ 19.5,  86. ],\n",
       "       [ 20.5,  85. ],\n",
       "       [ 22. ,  90. ],\n",
       "       [ 19. ,  80. ],\n",
       "       [ 22.5,  84. ],\n",
       "       [ 19. ,  92. ],\n",
       "       [ 20. ,  94. ],\n",
       "       [ 19.5, 107. ],\n",
       "       [ 21. ,  88. ],\n",
       "       [ 20. , 103. ],\n",
       "       [ 21. ,  88. ],\n",
       "       [ 22.5,  84. ],\n",
       "       [ 21.5,  85. ],\n",
       "       [ 20.8,  86. ],\n",
       "       [ 22.5, 108. ],\n",
       "       [ 16. ,  80. ],\n",
       "       [ 19. ,  87. ],\n",
       "       [ 20. ,  96. ],\n",
       "       [ 28.5, 119. ],\n",
       "       [ 26.5, 102. ],\n",
       "       [ 21.5,  86. ],\n",
       "       [ 21. ,  82. ],\n",
       "       [ 21. ,  85. ],\n",
       "       [ 21.5,  86. ],\n",
       "       [ 28.5,  92. ],\n",
       "       [ 24.5,  88. ],\n",
       "       [ 22. ,  80. ],\n",
       "       [ 18. , 122. ],\n",
       "       [ 20. , 104. ],\n",
       "       [ 24. ,  98. ],\n",
       "       [ 21.5, 106. ],\n",
       "       [ 17.5,  85. ],\n",
       "       [ 18.5,  94. ],\n",
       "       [ 21. ,  89. ],\n",
       "       [ 25. ,  96. ],\n",
       "       [ 19.5,  88. ],\n",
       "       [ 24. , 101. ],\n",
       "       [ 21. ,  96. ],\n",
       "       [ 20. ,  89. ],\n",
       "       [ 23.5,  97. ],\n",
       "       [ 20. ,  92. ],\n",
       "       [ 18.5, 112. ],\n",
       "       [ 21. , 102. ],\n",
       "       [ 20. ,  80. ],\n",
       "       [ 21.5,  86. ],\n",
       "       [ 21.5,  92. ],\n",
       "       [ 21.5, 113. ],\n",
       "       [ 24. , 123. ],\n",
       "       [ 22. , 112. ],\n",
       "       [ 25.5, 116. ],\n",
       "       [ 18.5,  98. ],\n",
       "       [ 20. , 103. ],\n",
       "       [ 22. ,  93. ],\n",
       "       [ 19.5,  89. ],\n",
       "       [ 27. ,  97. ],\n",
       "       [ 25. ,  98. ],\n",
       "       [ 22.5,  89. ],\n",
       "       [ 21. ,  88. ],\n",
       "       [ 20. , 107. ],\n",
       "       [ 22. , 106. ],\n",
       "       [ 18.5, 106. ],\n",
       "       [ 22. ,  90. ],\n",
       "       [ 22.5,  88. ],\n",
       "       [ 23. , 111. ],\n",
       "       [ 19.5,  88. ],\n",
       "       [ 24.5, 105. ],\n",
       "       [ 25. , 112. ],\n",
       "       [ 19. ,  96. ],\n",
       "       [ 19.5,  86. ],\n",
       "       [ 20. ,  91. ],\n",
       "       [ 20.5,  95. ],\n",
       "       [ 23. , 102. ],\n",
       "       [ 20. , 120. ],\n",
       "       [ 20. , 120. ],\n",
       "       [ 24.5,  96. ]])"
      ]
     },
     "execution_count": 6,
     "metadata": {},
     "output_type": "execute_result"
    }
   ],
   "source": [
    "X= data.iloc[:,[3,4]].values\n",
    "X"
   ]
  },
  {
   "cell_type": "code",
   "execution_count": 7,
   "id": "3328ba28",
   "metadata": {},
   "outputs": [
    {
     "data": {
      "text/plain": [
       "Alcohol                 float64\n",
       "Malic_Acid              float64\n",
       "Ash                     float64\n",
       "Ash_Alcanity            float64\n",
       "Magnesium                 int64\n",
       "Total_Phenols           float64\n",
       "Flavanoids              float64\n",
       "Nonflavanoid_Phenols    float64\n",
       "Proanthocyanins         float64\n",
       "Color_Intensity         float64\n",
       "Hue                     float64\n",
       "OD280                   float64\n",
       "Proline                   int64\n",
       "dtype: object"
      ]
     },
     "execution_count": 7,
     "metadata": {},
     "output_type": "execute_result"
    }
   ],
   "source": [
    "data.dtypes"
   ]
  },
  {
   "cell_type": "code",
   "execution_count": 8,
   "id": "017f8106",
   "metadata": {},
   "outputs": [
    {
     "data": {
      "text/plain": [
       "Alcohol                 0\n",
       "Malic_Acid              0\n",
       "Ash                     0\n",
       "Ash_Alcanity            0\n",
       "Magnesium               0\n",
       "Total_Phenols           0\n",
       "Flavanoids              0\n",
       "Nonflavanoid_Phenols    0\n",
       "Proanthocyanins         0\n",
       "Color_Intensity         0\n",
       "Hue                     0\n",
       "OD280                   0\n",
       "Proline                 0\n",
       "dtype: int64"
      ]
     },
     "execution_count": 8,
     "metadata": {},
     "output_type": "execute_result"
    }
   ],
   "source": [
    "data.isnull().sum()"
   ]
  },
  {
   "cell_type": "code",
   "execution_count": 9,
   "id": "117c1a84",
   "metadata": {},
   "outputs": [],
   "source": [
    "# K Means Clustering"
   ]
  },
  {
   "cell_type": "code",
   "execution_count": 12,
   "id": "ce5bf590",
   "metadata": {},
   "outputs": [
    {
     "name": "stderr",
     "output_type": "stream",
     "text": [
      "C:\\Users\\Madhav\\anaconda3\\lib\\site-packages\\sklearn\\cluster\\_kmeans.py:1036: UserWarning: KMeans is known to have a memory leak on Windows with MKL, when there are less chunks than available threads. You can avoid it by setting the environment variable OMP_NUM_THREADS=1.\n",
      "  warnings.warn(\n"
     ]
    },
    {
     "name": "stdout",
     "output_type": "stream",
     "text": [
      "38080.137808988766\n",
      "15481.412287933093\n",
      "9047.549896539733\n",
      "5956.814874501539\n",
      "4767.219739463601\n",
      "3944.450773557808\n",
      "3375.986446591558\n",
      "2833.6021167103695\n",
      "2483.5445398603006\n",
      "2271.5598296083763\n"
     ]
    },
    {
     "data": {
      "image/png": "[encoded data removed]",
      "text/plain": [
       "<Figure size 432x288 with 1 Axes>"
      ]
     },
     "metadata": {
      "needs_background": "light"
     },
     "output_type": "display_data"
    }
   ],
   "source": [
    "from sklearn.cluster import KMeans\n",
    "wcss=[]\n",
    "for i in range(1,11):\n",
    "    kmeans=KMeans(n_clusters = i, init = 'k-means++',random_state = 42)\n",
    "    kmeans.fit(X)\n",
    "    wcss.append(kmeans.inertia_)\n",
    "    print (kmeans.inertia_)\n",
    "plt.plot(range(1,11),wcss) \n",
    "plt.title('Elbow Method')\n",
    "plt.xlabel('No: of Clusters')\n",
    "plt.ylabel('WCSS')\n",
    "plt.show()    "
   ]
  },
  {
   "cell_type": "code",
   "execution_count": 10,
   "id": "2921c9ba",
   "metadata": {},
   "outputs": [],
   "source": [
    "# K-Means"
   ]
  },
  {
   "cell_type": "code",
   "execution_count": 18,
   "id": "791b2588",
   "metadata": {},
   "outputs": [
    {
     "data": {
      "text/plain": [
       "array([0, 2, 2, 0, 0, 0, 2, 0, 2, 2, 2, 2, 1, 1, 2, 0, 0, 0, 2, 0, 0, 2,\n",
       "       2, 2, 2, 0, 1, 2, 2, 2, 2, 2, 2, 3, 0, 2, 0, 2, 2, 0, 0, 1, 2, 2,\n",
       "       2, 0, 2, 2, 2, 2, 1, 2, 0, 0, 0, 0, 0, 2, 2, 1, 2, 2, 2, 1, 2, 2,\n",
       "       1, 1, 0, 3, 2, 1, 1, 3, 2, 2, 1, 0, 3, 2, 1, 1, 1, 1, 2, 2, 1, 1,\n",
       "       1, 1, 1, 1, 1, 1, 2, 3, 3, 1, 1, 1, 2, 1, 2, 1, 1, 1, 1, 1, 1, 2,\n",
       "       2, 1, 2, 1, 1, 1, 1, 2, 1, 1, 2, 0, 2, 1, 1, 1, 1, 1, 1, 1, 0, 2,\n",
       "       2, 2, 1, 2, 1, 2, 1, 2, 2, 1, 2, 1, 0, 2, 1, 1, 1, 0, 0, 0, 0, 2,\n",
       "       2, 1, 1, 2, 2, 1, 1, 2, 2, 2, 1, 1, 0, 1, 2, 0, 2, 1, 1, 2, 2, 0,\n",
       "       0, 2])"
      ]
     },
     "execution_count": 18,
     "metadata": {},
     "output_type": "execute_result"
    }
   ],
   "source": [
    "kmeans=KMeans(n_clusters = 4, init = 'k-means++',random_state = 42)\n",
    "y_kmeans = kmeans.fit_predict(X)\n",
    "y_kmeans"
   ]
  },
  {
   "cell_type": "code",
   "execution_count": 19,
   "id": "5740836f",
   "metadata": {},
   "outputs": [
    {
     "data": {
      "image/png": "[encoded data removed]",
      "text/plain": [
       "<Figure size 432x288 with 1 Axes>"
      ]
     },
     "metadata": {
      "needs_background": "light"
     },
     "output_type": "display_data"
    }
   ],
   "source": [
    "plt.scatter(X[y_kmeans == 0,0],X[y_kmeans == 0,1] , s = 100 , c = 'red' , label = 'Cluster1')\n",
    "plt.scatter(X[y_kmeans == 1,0],X[y_kmeans == 1,1] , s = 100 , c = 'blue' , label = 'Cluster2')\n",
    "plt.scatter(X[y_kmeans == 2,0],X[y_kmeans == 2,1] , s = 100 , c = 'green' , label = 'Cluster3')\n",
    "plt.scatter(X[y_kmeans == 3,0],X[y_kmeans == 3,1] , s = 100 , c = 'cyan' , label = 'Cluster4')\n",
    "plt.title('Cluster of Wine Data')\n",
    "plt.legend()\n",
    "plt.show()  "
   ]
  },
  {
   "cell_type": "code",
   "execution_count": 1,
   "id": "0d594866",
   "metadata": {},
   "outputs": [],
   "source": [
    "# Hierarchial Clustering"
   ]
  },
  {
   "cell_type": "code",
   "execution_count": 15,
   "id": "6f7421f0",
   "metadata": {},
   "outputs": [
    {
     "data": {
      "image/png": "[encoded data removed]",
      "text/plain": [
       "<Figure size 432x288 with 1 Axes>"
      ]
     },
     "metadata": {
      "needs_background": "light"
     },
     "output_type": "display_data"
    }
   ],
   "source": [
    "import scipy.cluster.hierarchy as sch\n",
    "dendrogram = sch.dendrogram(sch.linkage(X , method = 'ward'))\n",
    "plt.title('Dendrogram')\n",
    "plt.xlabel('No: of Clusters')\n",
    "plt.ylabel('Euclidean Distance')\n",
    "plt.show()"
   ]
  },
  {
   "cell_type": "code",
   "execution_count": 17,
   "id": "0930783c",
   "metadata": {},
   "outputs": [
    {
     "data": {
      "text/plain": [
       "array([1, 0, 0, 0, 1, 0, 0, 1, 0, 0, 0, 0, 2, 0, 0, 0, 1, 1, 0, 1, 1, 0,\n",
       "       0, 0, 0, 1, 0, 0, 0, 0, 0, 0, 0, 1, 0, 0, 0, 0, 0, 1, 1, 2, 0, 0,\n",
       "       0, 0, 0, 0, 0, 0, 0, 0, 0, 1, 1, 1, 1, 0, 0, 0, 0, 0, 0, 2, 0, 0,\n",
       "       2, 2, 0, 1, 0, 2, 2, 1, 0, 0, 2, 0, 1, 0, 2, 2, 2, 2, 0, 0, 2, 2,\n",
       "       2, 2, 2, 2, 2, 2, 0, 1, 1, 2, 2, 2, 0, 2, 0, 2, 2, 2, 2, 2, 2, 0,\n",
       "       0, 2, 0, 2, 2, 2, 2, 0, 2, 2, 0, 1, 0, 2, 2, 2, 2, 2, 2, 2, 1, 0,\n",
       "       0, 0, 2, 0, 2, 0, 2, 0, 0, 2, 0, 2, 0, 0, 2, 2, 2, 0, 1, 0, 1, 0,\n",
       "       0, 2, 2, 0, 0, 2, 2, 0, 0, 0, 2, 2, 0, 2, 0, 0, 0, 2, 2, 0, 0, 1,\n",
       "       1, 0], dtype=int64)"
      ]
     },
     "execution_count": 17,
     "metadata": {},
     "output_type": "execute_result"
    }
   ],
   "source": [
    "from sklearn.cluster import AgglomerativeClustering\n",
    "hc = AgglomerativeClustering(n_clusters = 3 , affinity = 'euclidean' , linkage = 'ward')\n",
    "y_hc = hc.fit_predict(X)\n",
    "y_hc"
   ]
  },
  {
   "cell_type": "code",
   "execution_count": 20,
   "id": "0058e8af",
   "metadata": {},
   "outputs": [
    {
     "data": {
      "image/png": "[encoded data removed]",
      "text/plain": [
       "<Figure size 432x288 with 1 Axes>"
      ]
     },
     "metadata": {
      "needs_background": "light"
     },
     "output_type": "display_data"
    }
   ],
   "source": [
    "plt.scatter(X[y_hc == 0,0],X[y_hc == 0,1] , s = 100 , c = 'red' , label = 'Cluster1')\n",
    "plt.scatter(X[y_hc == 1,0],X[y_hc == 1,1] , s = 100 , c = 'blue' , label = 'Cluster2')\n",
    "plt.scatter(X[y_hc == 2,0],X[y_hc == 2,1] , s = 100 , c = 'green' , label = 'Cluster3')\n",
    "plt.title('Cluster of Wine Data')\n",
    "plt.legend()\n",
    "plt.show()  "
   ]
  },
  {
   "cell_type": "code",
   "execution_count": null,
   "id": "79df7cdd",
   "metadata": {},
   "outputs": [],
   "source": []
  }
 ],
 "metadata": {
  "kernelspec": {
   "display_name": "Python 3 (ipykernel)",
   "language": "python",
   "name": "python3"
  },
  "language_info": {
   "codemirror_mode": {
    "name": "ipython",
    "version": 3
   },
   "file_extension": ".py",
   "mimetype": "text/x-python",
   "name": "python",
   "nbconvert_exporter": "python",
   "pygments_lexer": "ipython3",
   "version": "3.9.12"
  }
 },
 "nbformat": 4,
 "nbformat_minor": 5
}
