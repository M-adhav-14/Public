{
 "cells": [
  {
   "cell_type": "code",
   "execution_count": 1,
   "id": "df843079",
   "metadata": {},
   "outputs": [],
   "source": [
    "import pandas as pd\n",
    "import numpy as np\n",
    "import matplotlib.pyplot as plt\n",
    "import seaborn as sns"
   ]
  },
  {
   "cell_type": "code",
   "execution_count": 7,
   "id": "bf0b4914",
   "metadata": {},
   "outputs": [],
   "source": [
    "df=pd.read_excel(\"Dataset_w6.xlsx\")"
   ]
  },
  {
   "cell_type": "code",
   "execution_count": 8,
   "id": "c436daf6",
   "metadata": {},
   "outputs": [
    {
     "data": {
      "text/html": [
       "<div>\n",
       "<style scoped>\n",
       "    .dataframe tbody tr th:only-of-type {\n",
       "        vertical-align: middle;\n",
       "    }\n",
       "\n",
       "    .dataframe tbody tr th {\n",
       "        vertical-align: top;\n",
       "    }\n",
       "\n",
       "    .dataframe thead th {\n",
       "        text-align: right;\n",
       "    }\n",
       "</style>\n",
       "<table border=\"1\" class=\"dataframe\">\n",
       "  <thead>\n",
       "    <tr style=\"text-align: right;\">\n",
       "      <th></th>\n",
       "      <th>country</th>\n",
       "      <th>Region</th>\n",
       "      <th>Surface area (km2)</th>\n",
       "      <th>Population in thousands (2017)</th>\n",
       "      <th>GDP per capita (current US$)</th>\n",
       "      <th>Agricultural production index</th>\n",
       "      <th>International trade: Imports (million US$)</th>\n",
       "    </tr>\n",
       "  </thead>\n",
       "  <tbody>\n",
       "    <tr>\n",
       "      <th>0</th>\n",
       "      <td>Afghanistan</td>\n",
       "      <td>SouthernAsia</td>\n",
       "      <td>652864.0</td>\n",
       "      <td>35530.0</td>\n",
       "      <td>623.2</td>\n",
       "      <td>125.0</td>\n",
       "      <td>3568.0</td>\n",
       "    </tr>\n",
       "    <tr>\n",
       "      <th>1</th>\n",
       "      <td>Albania</td>\n",
       "      <td>SouthernEurope</td>\n",
       "      <td>28748.0</td>\n",
       "      <td>2930.0</td>\n",
       "      <td>3984.2</td>\n",
       "      <td>134.0</td>\n",
       "      <td>4669.0</td>\n",
       "    </tr>\n",
       "    <tr>\n",
       "      <th>2</th>\n",
       "      <td>Algeria</td>\n",
       "      <td>NorthernAfrica</td>\n",
       "      <td>2381741.0</td>\n",
       "      <td>41318.0</td>\n",
       "      <td>4154.1</td>\n",
       "      <td>160.0</td>\n",
       "      <td>47091.0</td>\n",
       "    </tr>\n",
       "    <tr>\n",
       "      <th>3</th>\n",
       "      <td>Angola</td>\n",
       "      <td>MiddleAfrica</td>\n",
       "      <td>1246700.0</td>\n",
       "      <td>29784.0</td>\n",
       "      <td>4714.1</td>\n",
       "      <td>175.0</td>\n",
       "      <td>8790.0</td>\n",
       "    </tr>\n",
       "    <tr>\n",
       "      <th>4</th>\n",
       "      <td>Antigua and Barbuda</td>\n",
       "      <td>Caribbean</td>\n",
       "      <td>442.0</td>\n",
       "      <td>102.0</td>\n",
       "      <td>14764.5</td>\n",
       "      <td>88.0</td>\n",
       "      <td>491.0</td>\n",
       "    </tr>\n",
       "  </tbody>\n",
       "</table>\n",
       "</div>"
      ],
      "text/plain": [
       "               country          Region  Surface area (km2)  \\\n",
       "0          Afghanistan    SouthernAsia            652864.0   \n",
       "1              Albania  SouthernEurope             28748.0   \n",
       "2              Algeria  NorthernAfrica           2381741.0   \n",
       "3               Angola    MiddleAfrica           1246700.0   \n",
       "4  Antigua and Barbuda       Caribbean               442.0   \n",
       "\n",
       "   Population in thousands (2017)  GDP per capita (current US$)  \\\n",
       "0                         35530.0                         623.2   \n",
       "1                          2930.0                        3984.2   \n",
       "2                         41318.0                        4154.1   \n",
       "3                         29784.0                        4714.1   \n",
       "4                           102.0                       14764.5   \n",
       "\n",
       "   Agricultural production index   International trade: Imports (million US$)  \n",
       "0                           125.0                                      3568.0  \n",
       "1                           134.0                                      4669.0  \n",
       "2                           160.0                                     47091.0  \n",
       "3                           175.0                                      8790.0  \n",
       "4                            88.0                                       491.0  "
      ]
     },
     "execution_count": 8,
     "metadata": {},
     "output_type": "execute_result"
    }
   ],
   "source": [
    "df.head()"
   ]
  },
  {
   "cell_type": "code",
   "execution_count": 9,
   "id": "1141ce29",
   "metadata": {},
   "outputs": [],
   "source": [
    "# 1. Find out how many countries are there in the dataset."
   ]
  },
  {
   "cell_type": "code",
   "execution_count": 10,
   "id": "183dd70f",
   "metadata": {},
   "outputs": [
    {
     "data": {
      "text/plain": [
       "196"
      ]
     },
     "execution_count": 10,
     "metadata": {},
     "output_type": "execute_result"
    }
   ],
   "source": [
    "len(pd.unique(df['country']))"
   ]
  },
  {
   "cell_type": "code",
   "execution_count": 11,
   "id": "632e2833",
   "metadata": {},
   "outputs": [],
   "source": [
    "# 2. Find out how many countries with respect to the region are available in the Dataset."
   ]
  },
  {
   "cell_type": "code",
   "execution_count": 12,
   "id": "939d8bbe",
   "metadata": {},
   "outputs": [
    {
     "data": {
      "text/plain": [
       "Region\n",
       "WesternAsia          18\n",
       "EasternAfrica        17\n",
       "Caribbean            16\n",
       "WesternAfrica        15\n",
       "SouthernEurope       12\n",
       "SouthAmerica         12\n",
       "South-easternAsia    11\n",
       "NorthernEurope       10\n",
       "EasternEurope        10\n",
       "MiddleAfrica          9\n",
       "SouthernAsia          9\n",
       "CentralAmerica        8\n",
       "EasternAsia           7\n",
       "WesternEurope         7\n",
       "NorthernAfrica        5\n",
       "Polynesia             5\n",
       "Melanesia             5\n",
       "SouthernAfrica        5\n",
       "CentralAsia           5\n",
       "NorthernAmerica       4\n",
       "Micronesia            4\n",
       "Oceania               2\n",
       "Name: country, dtype: int64"
      ]
     },
     "execution_count": 12,
     "metadata": {},
     "output_type": "execute_result"
    }
   ],
   "source": [
    "df.groupby('Region').count()['country'].sort_values(ascending=False)"
   ]
  },
  {
   "cell_type": "code",
   "execution_count": 13,
   "id": "a1f907fc",
   "metadata": {},
   "outputs": [],
   "source": [
    "# 3.a Region with the highest average GDP"
   ]
  },
  {
   "cell_type": "code",
   "execution_count": 14,
   "id": "d250bbb0",
   "metadata": {},
   "outputs": [],
   "source": [
    "a=df.groupby('Region').mean()['GDP per capita (current US$)'].sort_values(ascending=False)\n"
   ]
  },
  {
   "cell_type": "code",
   "execution_count": 15,
   "id": "aa152558",
   "metadata": {},
   "outputs": [
    {
     "data": {
      "text/plain": [
       "Region\n",
       "NorthernAmerica      57659.000000\n",
       "WesternEurope        55387.128571\n",
       "Oceania              44823.250000\n",
       "NorthernEurope       42098.220000\n",
       "EasternAsia          27967.614286\n",
       "WesternAsia          17013.938889\n",
       "Caribbean            15135.562500\n",
       "SouthernEurope       14462.741667\n",
       "South-easternAsia    10299.027273\n",
       "EasternEurope         9292.490000\n",
       "Melanesia             9261.960000\n",
       "Polynesia             8686.520000\n",
       "SouthAmerica          8499.775000\n",
       "CentralAmerica        6348.137500\n",
       "Micronesia            5008.300000\n",
       "CentralAsia           4329.880000\n",
       "SouthernAfrica        4191.900000\n",
       "NorthernAfrica        3934.960000\n",
       "MiddleAfrica          3928.833333\n",
       "SouthernAsia          2968.400000\n",
       "EasternAfrica         2088.852941\n",
       "WesternAfrica         1013.140000\n",
       "Name: GDP per capita (current US$), dtype: float64"
      ]
     },
     "execution_count": 15,
     "metadata": {},
     "output_type": "execute_result"
    }
   ],
   "source": [
    "a"
   ]
  },
  {
   "cell_type": "markdown",
   "id": "172246f3",
   "metadata": {},
   "source": [
    "The region North America is having the highest average GDP."
   ]
  },
  {
   "cell_type": "code",
   "execution_count": 16,
   "id": "4bc45a5b",
   "metadata": {},
   "outputs": [],
   "source": [
    "# 3.b Region with the highest average International Trade Imports"
   ]
  },
  {
   "cell_type": "code",
   "execution_count": 17,
   "id": "7ed432c4",
   "metadata": {},
   "outputs": [],
   "source": [
    "b=df.groupby('Region').mean()['International trade: Imports (million US$)'].sort_values(ascending=False)\n"
   ]
  },
  {
   "cell_type": "code",
   "execution_count": 18,
   "id": "09df2780",
   "metadata": {},
   "outputs": [
    {
     "data": {
      "text/plain": [
       "Region\n",
       "NorthernAmerica      663552.250000\n",
       "EasternAsia          451995.000000\n",
       "WesternEurope        407498.428571\n",
       "NorthernEurope       113407.200000\n",
       "Oceania              112914.500000\n",
       "South-easternAsia     98324.636364\n",
       "EasternEurope         85243.900000\n",
       "SouthernEurope        76666.666667\n",
       "SouthernAsia          58199.333333\n",
       "CentralAmerica        57031.500000\n",
       "WesternAsia           46025.555556\n",
       "NorthernAfrica        35034.400000\n",
       "SouthAmerica          32885.666667\n",
       "SouthernAfrica        18005.600000\n",
       "CentralAsia           12063.400000\n",
       "WesternAfrica          4898.333333\n",
       "EasternAfrica          4726.176471\n",
       "MiddleAfrica           4381.222222\n",
       "Caribbean              3057.312500\n",
       "Melanesia              2896.400000\n",
       "Polynesia               432.000000\n",
       "Micronesia               99.000000\n",
       "Name: International trade: Imports (million US$), dtype: float64"
      ]
     },
     "execution_count": 18,
     "metadata": {},
     "output_type": "execute_result"
    }
   ],
   "source": [
    "b"
   ]
  },
  {
   "cell_type": "markdown",
   "id": "bcdae6bb",
   "metadata": {},
   "source": [
    "The region North America is having the highest average International Trade Imports"
   ]
  },
  {
   "cell_type": "code",
   "execution_count": 19,
   "id": "02061c16",
   "metadata": {},
   "outputs": [],
   "source": [
    "# 4. Find out which region has more consistent with respect to GDP per capita (current US$)\n"
   ]
  },
  {
   "cell_type": "code",
   "execution_count": 25,
   "id": "406f3806",
   "metadata": {},
   "outputs": [
    {
     "data": {
      "image/png": "[encoded data removed]",
      "text/plain": [
       "<Figure size 432x288 with 1 Axes>"
      ]
     },
     "metadata": {
      "needs_background": "light"
     },
     "output_type": "display_data"
    }
   ],
   "source": [
    "c=df.groupby('Region').var()['GDP per capita (current US$)'].sort_values(ascending=False).plot(kind='bar')\n"
   ]
  },
  {
   "cell_type": "markdown",
   "id": "c829bf64",
   "metadata": {},
   "source": [
    "Western Africa is the region with the most consistent with respect to GDP per capita."
   ]
  },
  {
   "cell_type": "code",
   "execution_count": null,
   "id": "a6d8ae3f",
   "metadata": {},
   "outputs": [],
   "source": []
  }
 ],
 "metadata": {
  "kernelspec": {
   "display_name": "Python 3 (ipykernel)",
   "language": "python",
   "name": "python3"
  },
  "language_info": {
   "codemirror_mode": {
    "name": "ipython",
    "version": 3
   },
   "file_extension": ".py",
   "mimetype": "text/x-python",
   "name": "python",
   "nbconvert_exporter": "python",
   "pygments_lexer": "ipython3",
   "version": "3.9.12"
  }
 },
 "nbformat": 4,
 "nbformat_minor": 5
}
